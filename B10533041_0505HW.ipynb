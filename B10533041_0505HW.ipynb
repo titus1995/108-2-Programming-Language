{
 "cells": [
  {
   "cell_type": "code",
   "execution_count": 20,
   "metadata": {},
   "outputs": [
    {
     "name": "stdout",
     "output_type": "stream",
     "text": [
      "A: 12\n",
      "B: 23\n",
      "A = 12\n",
      "B = 23\n",
      "A + B = 35\n",
      "A < B\n"
     ]
    }
   ],
   "source": [
    "class twoNummer:\n",
    "    def __init__(self, a, b):\n",
    "        \n",
    "        self.firstNummer = a\n",
    "        self.secondNummer = b\n",
    "        \n",
    "        \n",
    "#         a = int(input(\"A: \"))\n",
    "#         b = int(input(\"B: \"))\n",
    "        \n",
    "        \n",
    "    def compareNummer(self):\n",
    "        if self.firstNummer > self.secondNummer :\n",
    "            return(\"A > B\")\n",
    "        elif self.firstNummer < self.secondNummer :\n",
    "            return(\"A < B\")\n",
    "        else:\n",
    "            return(\"A = B\")\n",
    "\n",
    "    def addNummer(self):\n",
    "        return(self.firstNummer + self.secondNummer)\n",
    "    \n",
    "    def showNummer(self):\n",
    "        return(self.firstNummer)\n",
    "\n",
    "a = int(input(\"A: \"))\n",
    "b = int(input(\"B: \"))\n",
    "\n",
    "myNummer = twoNummer(a,b)\n",
    "print(\"A = \" + str(myNummer.firstNummer))\n",
    "print(\"B = \" + str(myNummer.secondNummer))\n",
    "print(\"A + B = \" + str(myNummer.addNummer()))\n",
    "print(myNummer.compareNummer())\n",
    "\n",
    "\n"
   ]
  },
  {
   "cell_type": "markdown",
   "metadata": {},
   "source": []
  }
 ],
 "metadata": {
  "kernelspec": {
   "display_name": "Python 3",
   "language": "python",
   "name": "python3"
  },
  "language_info": {
   "codemirror_mode": {
    "name": "ipython",
    "version": 3
   },
   "file_extension": ".py",
   "mimetype": "text/x-python",
   "name": "python",
   "nbconvert_exporter": "python",
   "pygments_lexer": "ipython3",
   "version": "3.7.0"
  }
 },
 "nbformat": 4,
 "nbformat_minor": 2
}
